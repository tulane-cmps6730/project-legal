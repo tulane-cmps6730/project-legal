{
  "cells": [
    {
      "cell_type": "markdown",
      "metadata": {
        "id": "z9giwlx6v-J9"
      },
      "source": [
        "## Experiments\n",
        "\n",
        "Let's start playing around with our data"
      ]
    },
    {
      "cell_type": "code",
      "execution_count": 1,
      "metadata": {
        "id": "S7YZ2DIZv-J-"
      },
      "outputs": [
        {
          "name": "stderr",
          "output_type": "stream",
          "text": [
            "2024-04-29 16:34:29.868579: I tensorflow/core/platform/cpu_feature_guard.cc:210] This TensorFlow binary is optimized to use available CPU instructions in performance-critical operations.\n",
            "To enable the following instructions: AVX2 FMA, in other operations, rebuild TensorFlow with the appropriate compiler flags.\n",
            "2024-04-29 16:34:31.662473: W tensorflow/compiler/tf2tensorrt/utils/py_utils.cc:38] TF-TRT Warning: Could not find TensorRT\n"
          ]
        }
      ],
      "source": [
        "#imports\n",
        "import pandas as pd\n",
        "import numpy as np\n",
        "import matplotlib.pyplot as plt\n",
        "import torch\n",
        "import torch.nn as nn\n",
        "import tqdm\n",
        "from sklearn.model_selection import train_test_split\n",
        "from datasets import load_dataset,Dataset,DatasetDict\n",
        "from transformers import DataCollatorWithPadding,AutoModelForSequenceClassification,AutoModel,AutoConfig\n",
        "from transformers import BertTokenizer, BertModel, BertConfig\n",
        "from sklearn.metrics import accuracy_score,precision_score,recall_score,f1_score\n",
        "from imblearn.under_sampling import RandomUnderSampler\n",
        "from torch.optim import Adam, AdamW\n",
        "from torch.utils.data import DataLoader\n",
        "device = torch.device(\"cuda\" if torch.cuda.is_available() else \"cpu\")"
      ]
    },
    {
      "cell_type": "markdown",
      "metadata": {
        "id": "yJKxE3aWv-J_"
      },
      "source": [
        "# Read in training data\n",
        "This dataset contains 100 annotated terms of service contracts, each row represents a sentence, which carries on it a label. The label corresponds to a different type of potential unfairness, as defined by the authors of CLAUDETTE, the previous paper from which this dataset came from."
      ]
    },
    {
      "cell_type": "code",
      "execution_count": 2,
      "metadata": {
        "colab": {
          "base_uri": "https://localhost:8080/",
          "height": 487
        },
        "id": "P1Ul11COv-J_",
        "outputId": "fcefa89f-65b4-405c-b801-91e065b828ce"
      },
      "outputs": [
        {
          "data": {
            "text/html": [
              "<div>\n",
              "<style scoped>\n",
              "    .dataframe tbody tr th:only-of-type {\n",
              "        vertical-align: middle;\n",
              "    }\n",
              "\n",
              "    .dataframe tbody tr th {\n",
              "        vertical-align: top;\n",
              "    }\n",
              "\n",
              "    .dataframe thead th {\n",
              "        text-align: right;\n",
              "    }\n",
              "</style>\n",
              "<table border=\"1\" class=\"dataframe\">\n",
              "  <thead>\n",
              "    <tr style=\"text-align: right;\">\n",
              "      <th></th>\n",
              "      <th>Unnamed: 0</th>\n",
              "      <th>A</th>\n",
              "      <th>CH</th>\n",
              "      <th>CR</th>\n",
              "      <th>J</th>\n",
              "      <th>LAW</th>\n",
              "      <th>LTD</th>\n",
              "      <th>PINC</th>\n",
              "      <th>TER</th>\n",
              "      <th>USE</th>\n",
              "      <th>document</th>\n",
              "      <th>document_ID</th>\n",
              "      <th>label</th>\n",
              "      <th>text</th>\n",
              "      <th>TER_targets</th>\n",
              "      <th>LTD_targets</th>\n",
              "      <th>A_targets</th>\n",
              "      <th>CH_targets</th>\n",
              "      <th>CR_targets</th>\n",
              "    </tr>\n",
              "  </thead>\n",
              "  <tbody>\n",
              "    <tr>\n",
              "      <th>0</th>\n",
              "      <td>0</td>\n",
              "      <td>0</td>\n",
              "      <td>0</td>\n",
              "      <td>0</td>\n",
              "      <td>0</td>\n",
              "      <td>0</td>\n",
              "      <td>0</td>\n",
              "      <td>0</td>\n",
              "      <td>0</td>\n",
              "      <td>0</td>\n",
              "      <td>Mozilla</td>\n",
              "      <td>0</td>\n",
              "      <td>0</td>\n",
              "      <td>websites &amp; communications terms of use</td>\n",
              "      <td>NaN</td>\n",
              "      <td>NaN</td>\n",
              "      <td>NaN</td>\n",
              "      <td>NaN</td>\n",
              "      <td>NaN</td>\n",
              "    </tr>\n",
              "    <tr>\n",
              "      <th>1</th>\n",
              "      <td>1</td>\n",
              "      <td>0</td>\n",
              "      <td>0</td>\n",
              "      <td>0</td>\n",
              "      <td>0</td>\n",
              "      <td>0</td>\n",
              "      <td>0</td>\n",
              "      <td>0</td>\n",
              "      <td>0</td>\n",
              "      <td>0</td>\n",
              "      <td>Mozilla</td>\n",
              "      <td>0</td>\n",
              "      <td>0</td>\n",
              "      <td>please read the terms of this entire document ...</td>\n",
              "      <td>NaN</td>\n",
              "      <td>NaN</td>\n",
              "      <td>NaN</td>\n",
              "      <td>NaN</td>\n",
              "      <td>NaN</td>\n",
              "    </tr>\n",
              "    <tr>\n",
              "      <th>2</th>\n",
              "      <td>2</td>\n",
              "      <td>0</td>\n",
              "      <td>0</td>\n",
              "      <td>0</td>\n",
              "      <td>0</td>\n",
              "      <td>0</td>\n",
              "      <td>0</td>\n",
              "      <td>0</td>\n",
              "      <td>0</td>\n",
              "      <td>1</td>\n",
              "      <td>Mozilla</td>\n",
              "      <td>0</td>\n",
              "      <td>1</td>\n",
              "      <td>by accessing or signing up to receive communic...</td>\n",
              "      <td>NaN</td>\n",
              "      <td>NaN</td>\n",
              "      <td>NaN</td>\n",
              "      <td>NaN</td>\n",
              "      <td>NaN</td>\n",
              "    </tr>\n",
              "    <tr>\n",
              "      <th>3</th>\n",
              "      <td>3</td>\n",
              "      <td>0</td>\n",
              "      <td>0</td>\n",
              "      <td>0</td>\n",
              "      <td>0</td>\n",
              "      <td>0</td>\n",
              "      <td>0</td>\n",
              "      <td>0</td>\n",
              "      <td>0</td>\n",
              "      <td>0</td>\n",
              "      <td>Mozilla</td>\n",
              "      <td>0</td>\n",
              "      <td>0</td>\n",
              "      <td>our websites include multiple domains such as ...</td>\n",
              "      <td>NaN</td>\n",
              "      <td>NaN</td>\n",
              "      <td>NaN</td>\n",
              "      <td>NaN</td>\n",
              "      <td>NaN</td>\n",
              "    </tr>\n",
              "    <tr>\n",
              "      <th>4</th>\n",
              "      <td>4</td>\n",
              "      <td>0</td>\n",
              "      <td>0</td>\n",
              "      <td>0</td>\n",
              "      <td>0</td>\n",
              "      <td>0</td>\n",
              "      <td>0</td>\n",
              "      <td>0</td>\n",
              "      <td>0</td>\n",
              "      <td>0</td>\n",
              "      <td>Mozilla</td>\n",
              "      <td>0</td>\n",
              "      <td>0</td>\n",
              "      <td>you may also recognize our websites by nicknam...</td>\n",
              "      <td>NaN</td>\n",
              "      <td>NaN</td>\n",
              "      <td>NaN</td>\n",
              "      <td>NaN</td>\n",
              "      <td>NaN</td>\n",
              "    </tr>\n",
              "  </tbody>\n",
              "</table>\n",
              "</div>"
            ],
            "text/plain": [
              "   Unnamed: 0  A  CH  CR  J  LAW  LTD  PINC  TER  USE document  document_ID  \\\n",
              "0           0  0   0   0  0    0    0     0    0    0  Mozilla            0   \n",
              "1           1  0   0   0  0    0    0     0    0    0  Mozilla            0   \n",
              "2           2  0   0   0  0    0    0     0    0    1  Mozilla            0   \n",
              "3           3  0   0   0  0    0    0     0    0    0  Mozilla            0   \n",
              "4           4  0   0   0  0    0    0     0    0    0  Mozilla            0   \n",
              "\n",
              "   label                                               text TER_targets  \\\n",
              "0      0             websites & communications terms of use         NaN   \n",
              "1      0  please read the terms of this entire document ...         NaN   \n",
              "2      1  by accessing or signing up to receive communic...         NaN   \n",
              "3      0  our websites include multiple domains such as ...         NaN   \n",
              "4      0  you may also recognize our websites by nicknam...         NaN   \n",
              "\n",
              "  LTD_targets A_targets CH_targets CR_targets  \n",
              "0         NaN       NaN        NaN        NaN  \n",
              "1         NaN       NaN        NaN        NaN  \n",
              "2         NaN       NaN        NaN        NaN  \n",
              "3         NaN       NaN        NaN        NaN  \n",
              "4         NaN       NaN        NaN        NaN  "
            ]
          },
          "execution_count": 2,
          "metadata": {},
          "output_type": "execute_result"
        }
      ],
      "source": [
        "df = pd.read_csv('../data/dataset.csv')\n",
        "df.head()"
      ]
    },
    {
      "cell_type": "markdown",
      "metadata": {
        "id": "lp8bfw7lwahG"
      },
      "source": [
        "# Bag of Words Model"
      ]
    },
    {
      "cell_type": "markdown",
      "metadata": {
        "id": "gqNLo2ceyQrX"
      },
      "source": [
        "**Preprocessing**"
      ]
    },
    {
      "cell_type": "code",
      "execution_count": 3,
      "metadata": {
        "colab": {
          "base_uri": "https://localhost:8080/"
        },
        "id": "mBGM_m7cyPaI",
        "outputId": "0bb92a8e-e142-4279-fc7d-a607b004df0d"
      },
      "outputs": [
        {
          "name": "stderr",
          "output_type": "stream",
          "text": [
            "[nltk_data] Downloading package stopwords to /home/jonat/nltk_data...\n",
            "[nltk_data]   Package stopwords is already up-to-date!\n",
            "[nltk_data] Downloading package punkt to /home/jonat/nltk_data...\n",
            "[nltk_data]   Package punkt is already up-to-date!\n"
          ]
        }
      ],
      "source": [
        "import nltk\n",
        "from nltk.corpus import stopwords\n",
        "from nltk.tokenize import word_tokenize\n",
        "from sklearn.model_selection import train_test_split\n",
        "\n",
        "texts = df['text'].values\n",
        "labels = df['label'].values\n",
        "\n",
        "texts_train, texts_test, labels_train, labels_test = train_test_split(texts, labels, test_size=0.2, random_state=42)\n",
        "\n",
        "nltk.download('stopwords')\n",
        "nltk.download('punkt')\n",
        "\n",
        "stop_words = set(stopwords.words('english'))\n",
        "\n",
        "def preprocess(text):\n",
        "    # tokenize\n",
        "    tokens = word_tokenize(text)\n",
        "    # removing stopwords to focus on meaningful vocab\n",
        "    tokens = [word for word in tokens if word.lower() not in stop_words]\n",
        "    return tokens\n",
        "\n",
        "texts_train = [preprocess(text) for text in texts_train]\n",
        "texts_test = [preprocess(text) for text in texts_test]"
      ]
    },
    {
      "cell_type": "markdown",
      "metadata": {
        "id": "srpUz6KN1VaW"
      },
      "source": [
        "**Stemming**"
      ]
    },
    {
      "cell_type": "code",
      "execution_count": 4,
      "metadata": {
        "id": "g3ZdWyni1VD-"
      },
      "outputs": [],
      "source": [
        "from nltk.stem import PorterStemmer\n",
        "from nltk.util import ngrams\n",
        "\n",
        "for column in df.columns:\n",
        "    df[column] = df[column].fillna('')\n",
        "    df[column] = df[column].astype(str)\n",
        "\n",
        "texts = df['text'].astype(str).values\n",
        "labels = df['label'].values\n",
        "\n",
        "texts_train, texts_test, labels_train, labels_test = train_test_split(texts, labels, test_size=0.2, random_state=42)\n",
        "\n",
        "# using porterstemmer reduce words to their roots\n",
        "stemmer = PorterStemmer()\n",
        "\n",
        "def preprocess(text, n=2):\n",
        "    # text -> tokens\n",
        "    tokens = word_tokenize(text)\n",
        "    # stem and removing stopwords\n",
        "    tokens = [stemmer.stem(word) for word in tokens if word.lower() not in stop_words and word.isalpha()]\n",
        "    # n-gram generation\n",
        "    n_grams = list(ngrams(tokens, n))\n",
        "    # flattening list of n-grams\n",
        "    n_grams = ['_'.join(gram) for gram in n_grams]\n",
        "    return tokens + n_grams\n",
        "\n",
        "# include n-grams in data processing\n",
        "texts_train = [preprocess(text, n=2) for text in texts_train]\n",
        "texts_test = [preprocess(text, n=2) for text in texts_test]"
      ]
    },
    {
      "cell_type": "code",
      "execution_count": 5,
      "metadata": {},
      "outputs": [
        {
          "name": "stdout",
          "output_type": "stream",
          "text": [
            "[['ubisoft', 'advis', 'includ', 'surnam', 'user', 'name', 'ubisoft_advis', 'advis_includ', 'includ_surnam', 'surnam_user', 'user_name'], ['agre', 'distribut', 'part', 'part', 'websit', 'servic', 'includ', 'limit', 'content', 'medium', 'without', 'youtub', 'prior', 'written', 'authoris', 'unless', 'youtub', 'make', 'avail', 'mean', 'distribut', 'function', 'offer', 'servic', 'youtub', 'player', 'agre_distribut', 'distribut_part', 'part_part', 'part_websit', 'websit_servic', 'servic_includ', 'includ_limit', 'limit_content', 'content_medium', 'medium_without', 'without_youtub', 'youtub_prior', 'prior_written', 'written_authoris', 'authoris_unless', 'unless_youtub', 'youtub_make', 'make_avail', 'avail_mean', 'mean_distribut', 'distribut_function', 'function_offer', 'offer_servic', 'servic_youtub', 'youtub_player'], ['event', 'member', 'disput', 'one', 'member', 'member', 'herebi', 'releas', 'compani', 'director', 'offic', 'employe', 'agent', 'independ', 'contractor', 'repres', 'parent', 'subsidiari', 'affili', 'successor', 'assign', 'license', 'claim', 'action', 'loss', 'liabil', 'judgment', 'damag', 'cost', 'expens', 'everi', 'kind', 'natur', 'regardless', 'whether', 'actual', 'consequenti', 'known', 'unknown', 'suspect', 'unsuspect', 'disclos', 'undisclos', 'aris', 'way', 'relat', 'disput', 'servic', 'event_member', 'member_disput', 'disput_one', 'one_member', 'member_member', 'member_herebi', 'herebi_releas', 'releas_compani', 'compani_director', 'director_offic', 'offic_employe', 'employe_agent', 'agent_independ', 'independ_contractor', 'contractor_repres', 'repres_parent', 'parent_subsidiari', 'subsidiari_affili', 'affili_successor', 'successor_assign', 'assign_license', 'license_claim', 'claim_action', 'action_loss', 'loss_liabil', 'liabil_judgment', 'judgment_damag', 'damag_cost', 'cost_expens', 'expens_everi', 'everi_kind', 'kind_natur', 'natur_regardless', 'regardless_whether', 'whether_actual', 'actual_consequenti', 'consequenti_known', 'known_unknown', 'unknown_suspect', 'suspect_unsuspect', 'unsuspect_disclos', 'disclos_undisclos', 'undisclos_aris', 'aris_way', 'way_relat', 'relat_disput', 'disput_servic'], ['arbitr', 'shall', 'held', 'counti', 'resid', 'anoth', 'mutual', 'agre', 'locat', 'arbitr_shall', 'shall_held', 'held_counti', 'counti_resid', 'resid_anoth', 'anoth_mutual', 'mutual_agre', 'agre_locat'], ['entireti', 'section', 'found', 'unenforc', 'entireti', 'section', 'null', 'void', 'case', 'parti', 'agre', 'exclus', 'jurisdict', 'venu', 'describ', 'section', 'govern', 'action', 'aris', 'relat', 'eula', 'entireti_section', 'section_found', 'found_unenforc', 'unenforc_entireti', 'entireti_section', 'section_null', 'null_void', 'void_case', 'case_parti', 'parti_agre', 'agre_exclus', 'exclus_jurisdict', 'jurisdict_venu', 'venu_describ', 'describ_section', 'section_govern', 'govern_action', 'action_aris', 'aris_relat', 'relat_eula'], ['failur', 'delay', 'vimeo', 'exercis', 'right', 'hereund', 'waiv', 'exercis', 'right', 'failur_delay', 'delay_vimeo', 'vimeo_exercis', 'exercis_right', 'right_hereund', 'hereund_waiv', 'waiv_exercis', 'exercis_right'], ['use', 'trademark', 'trade', 'name', 'group', 'name', 'otherwis', 'must', 'descript', 'group', 'activ', 'purpos', 'use_trademark', 'trademark_trade', 'trade_name', 'name_group', 'group_name', 'name_otherwis', 'otherwis_must', 'must_descript', 'descript_group', 'group_activ', 'activ_purpos'], ['onlin', 'activ', 'offer', 'us', 'allow', 'children', 'age', 'thirteen', 'reveal', 'person', 'data', 'publicli', 'exampl', 'via', 'forum', 'obtain', 'parent', 'consent', 'allow', 'child', 'particip', 'onlin_activ', 'activ_offer', 'offer_us', 'us_allow', 'allow_children', 'children_age', 'age_thirteen', 'thirteen_reveal', 'reveal_person', 'person_data', 'data_publicli', 'publicli_exampl', 'exampl_via', 'via_forum', 'forum_obtain', 'obtain_parent', 'parent_consent', 'consent_allow', 'allow_child', 'child_particip'], ['pleas', 'read', 'section', 'care', 'pleas_read', 'read_section', 'section_care'], ['event', 'shall', 'weebli', 'liabl', 'third', 'parti', 'use', 'alleg', 'use', 'third', 'parti', 'materi', 'event_shall', 'shall_weebli', 'weebli_liabl', 'liabl_third', 'third_parti', 'parti_use', 'use_alleg', 'alleg_use', 'use_third', 'third_parti', 'parti_materi'], ['showcas', 'artist', 'work', 'myspac', 'give', 'peopl', 'access', 'massiv', 'digit', 'music', 'librari', 'showcas_artist', 'artist_work', 'work_myspac', 'myspac_give', 'give_peopl', 'peopl_access', 'access_massiv', 'massiv_digit', 'digit_music', 'music_librari'], ['believ', 'violat', 'intellectu', 'properti', 'right', 'pleas', 'complet', 'copyright', 'compliant', 'form', 'also', 'found', 'http', 'believ_violat', 'violat_intellectu', 'intellectu_properti', 'properti_right', 'right_pleas', 'pleas_complet', 'complet_copyright', 'copyright_compliant', 'compliant_form', 'form_also', 'also_found', 'found_http'], ['accommod', 'without', 'creat', 'caus', 'compens', 'custom', 'accommod_without', 'without_creat', 'creat_caus', 'caus_compens', 'compens_custom'], ['user', 'redeem', 'diamond', 'sole', 'respons', 'report', 'payment', 'tax', 'due', 'amount', 'redeem', 'user_redeem', 'redeem_diamond', 'diamond_sole', 'sole_respons', 'respons_report', 'report_payment', 'payment_tax', 'tax_due', 'due_amount', 'amount_redeem'], ['privaci', 'statement', 'also', 'describ', 'microsoft', 'use', 'content', 'commun', 'other', 'post', 'feedback', 'submit', 'microsoft', 'via', 'servic', 'file', 'photo', 'document', 'audio', 'digit', 'work', 'video', 'upload', 'store', 'share', 'servic', 'content', 'privaci_statement', 'statement_also', 'also_describ', 'describ_microsoft', 'microsoft_use', 'use_content', 'content_commun', 'commun_other', 'other_post', 'post_feedback', 'feedback_submit', 'submit_microsoft', 'microsoft_via', 'via_servic', 'servic_file', 'file_photo', 'photo_document', 'document_audio', 'audio_digit', 'digit_work', 'work_video', 'video_upload', 'upload_store', 'store_share', 'share_servic', 'servic_content'], ['pleas', 'see', 'section', 'iv', 'detail', 'explan', 'happen', 'microsoft', 'account', 'close', 'pleas_see', 'see_section', 'section_iv', 'iv_detail', 'detail_explan', 'explan_happen', 'happen_microsoft', 'microsoft_account', 'account_close'], ['report', 'system', 'put', 'place', 'happn', 'replac', 'complaint', 'judici', 'procedur', 'member', 'author', 'report', 'content', 'report_system', 'system_put', 'put_place', 'place_happn', 'happn_replac', 'replac_complaint', 'complaint_judici', 'judici_procedur', 'procedur_member', 'member_author', 'author_report', 'report_content'], ['content', 'intend', 'promot', 'potenti', 'unsaf', 'controversi', 'weight', 'loss', 'product', 'procedur', 'includ', 'prescrib', 'supplement', 'mlm', 'content_intend', 'intend_promot', 'promot_potenti', 'potenti_unsaf', 'unsaf_controversi', 'controversi_weight', 'weight_loss', 'loss_product', 'product_procedur', 'procedur_includ', 'includ_prescrib', 'prescrib_supplement', 'supplement_mlm'], ['repres', 'warrant', 'content', 'provid', 'otherwis', 'control', 'necessari', 'right', 'meet', 'oblig', 'agreement', 'repres_warrant', 'warrant_content', 'content_provid', 'provid_otherwis', 'otherwis_control', 'control_necessari', 'necessari_right', 'right_meet', 'meet_oblig', 'oblig_agreement'], ['acknowledg', 'agre', 'may', 'preserv', 'content', 'may', 'also', 'disclos', 'content', 'requir', 'law', 'good', 'faith', 'belief', 'preserv', 'disclosur', 'reason', 'necessari', 'compli', 'legal', 'process', 'b', 'enforc', 'term', 'c', 'respond', 'claim', 'content', 'violat', 'right', 'protect', 'right', 'properti', 'person', 'safeti', 'user', 'public', 'acknowledg_agre', 'agre_may', 'may_preserv', 'preserv_content', 'content_may', 'may_also', 'also_disclos', 'disclos_content', 'content_requir', 'requir_law', 'law_good', 'good_faith', 'faith_belief', 'belief_preserv', 'preserv_disclosur', 'disclosur_reason', 'reason_necessari', 'necessari_compli', 'compli_legal', 'legal_process', 'process_b', 'b_enforc', 'enforc_term', 'term_c', 'c_respond', 'respond_claim', 'claim_content', 'content_violat', 'violat_right', 'right_protect', 'protect_right', 'right_properti', 'properti_person', 'person_safeti', 'safeti_user', 'user_public']]\n"
          ]
        }
      ],
      "source": [
        "print(texts_test[0:20])"
      ]
    },
    {
      "cell_type": "markdown",
      "metadata": {
        "id": "p_ZHVBfRyXFR"
      },
      "source": [
        "BoW Model"
      ]
    },
    {
      "cell_type": "code",
      "execution_count": 6,
      "metadata": {
        "id": "r3wMFapmv-KD"
      },
      "outputs": [],
      "source": [
        "from sklearn.feature_extraction.text import CountVectorizer\n",
        "\n",
        "# init CountVectorizer with 1-2 n-grams (should suffice for our purposes)\n",
        "vectorizer = CountVectorizer(analyzer='word', ngram_range=(1, 2), token_pattern=r'\\b\\w+\\b')\n",
        "\n",
        "# preparing train data by joining tokens into strings (countvectorizor takes in strings)\n",
        "texts_train_joined = [' '.join(text) for text in texts_train]\n",
        "texts_test_joined = [' '.join(text) for text in texts_test]\n",
        "\n",
        "# fitting vectorizer on the train data\n",
        "X_train = vectorizer.fit_transform(texts_train_joined)\n",
        "\n",
        "# transforming test data based on fitted vocab\n",
        "X_test = vectorizer.transform(texts_test_joined)"
      ]
    },
    {
      "cell_type": "markdown",
      "metadata": {
        "id": "dvCWdm13yl-a"
      },
      "source": [
        "**Classifier**"
      ]
    },
    {
      "cell_type": "code",
      "execution_count": 7,
      "metadata": {},
      "outputs": [
        {
          "name": "stdout",
          "output_type": "stream",
          "text": [
            "['term supersed prior agreement earlier version term evernot use servic effect date indic top term term_supersed supersed_prior prior_agreement agreement_earlier earlier_version version_term term_evernot evernot_use use_servic servic_effect effect_date date_indic indic_top top_term', 'may upload publish post distribut dissemin unauthor privat confidenti person inform other may_upload upload_publish publish_post post_distribut distribut_dissemin dissemin_unauthor unauthor_privat privat_confidenti confidenti_person person_inform inform_other', 'world warcraft requir creation retent electron file includ without limit player charact account statist user profil weapon armor quest loot etc game data store blizzard entertain avoid doubt data concern player use voic client store world_warcraft warcraft_requir requir_creation creation_retent retent_electron electron_file file_includ includ_without without_limit limit_player player_charact charact_account account_statist statist_user user_profil profil_weapon weapon_armor armor_quest quest_loot loot_etc etc_game game_data data_store store_blizzard blizzard_entertain entertain_avoid avoid_doubt doubt_data data_concern concern_player player_use use_voic voic_client client_store', 'minimum connect speed sd qualiti mbp howev recommend faster connect improv video qualiti minimum_connect connect_speed speed_sd sd_qualiti qualiti_mbp mbp_howev howev_recommend recommend_faster faster_connect connect_improv improv_video video_qualiti', 'regardless manner arbitr conduct arbitr shall issu reason written decis explain essenti find conclus award base judgment award render arbitr may enter court compet jurisdict regardless_manner manner_arbitr arbitr_conduct conduct_arbitr arbitr_shall shall_issu issu_reason reason_written written_decis decis_explain explain_essenti essenti_find find_conclus conclus_award award_base base_judgment judgment_award award_render render_arbitr arbitr_may may_enter enter_court court_compet compet_jurisdict', 'refund given charg day old refund_given given_charg charg_day day_old', 'extent prohibit law box affili associ servic provid provid servic fault avail b make represent warranti condit whether express impli warranti merchant satisfactori qualiti fit particular purpos c guarante servic uninterrupt free harm compon content secur otherwis lost damag extent_prohibit prohibit_law law_box box_affili affili_associ associ_servic servic_provid provid_provid provid_servic servic_fault fault_avail avail_b b_make make_represent represent_warranti warranti_condit condit_whether whether_express express_impli impli_warranti warranti_merchant merchant_satisfactori satisfactori_qualiti qualiti_fit fit_particular particular_purpos purpos_c c_guarante guarante_servic servic_uninterrupt uninterrupt_free free_harm harm_compon compon_content content_secur secur_otherwis otherwis_lost lost_damag', 'offer opportun migrat charact pleas note follow offer_opportun opportun_migrat migrat_charact charact_pleas pleas_note note_follow', 'cancel subscript wo cancel account cancel_subscript subscript_wo wo_cancel cancel_account', 'imperson person entiti falsifi otherwis misrepres affili person entiti whether provid omit provid inform imperson_person person_entiti entiti_falsifi falsifi_otherwis otherwis_misrepres misrepres_affili affili_person person_entiti entiti_whether whether_provid provid_omit omit_provid provid_inform', 'youtub oper clear copyright polici relat content alleg infring copyright third parti youtub_oper oper_clear clear_copyright copyright_polici polici_relat relat_content content_alleg alleg_infring infring_copyright copyright_third third_parti', 'respons usag activ servic user use password includ limit use password third parti respons_usag usag_activ activ_servic servic_user user_use use_password password_includ includ_limit limit_use use_password password_third third_parti', 'content mean content make avail includ provid share otherwis make avail masquerad connect servic via mechan content_mean mean_content content_make make_avail avail_includ includ_provid provid_share share_otherwis otherwis_make make_avail avail_masquerad masquerad_connect connect_servic servic_via via_mechan', 'claim ownership file claim_ownership ownership_file', 'parent legal guardian must supervis children use nintendo account time parent_legal legal_guardian guardian_must must_supervis supervis_children children_use use_nintendo nintendo_account account_time', 'temporarili perman revok special statu associ airbnb account temporarili_perman perman_revok revok_special special_statu statu_associ associ_airbnb airbnb_account', 'jurisdict allow exclus limit liabil consequenti incident damag limit may appli jurisdict_allow allow_exclus exclus_limit limit_liabil liabil_consequenti consequenti_incident incident_damag damag_limit limit_may may_appli', 'provis articl appli registr subscript shall remain applic entir durat use servic without prejudic provis articl provis_articl articl_appli appli_registr registr_subscript subscript_shall shall_remain remain_applic applic_entir entir_durat durat_use use_servic servic_without without_prejudic prejudic_provis provis_articl', 'right expressli grant herein reserv uber uber licensor right_expressli expressli_grant grant_herein herein_reserv reserv_uber uber_uber uber_licensor', 'airbnb agre follow claim except arbitr agreement brought judici proceed court compet jurisdict claim relat actual threaten infring misappropri violat parti copyright trademark trade secret patent intellectu properti right ii claim seek emerg injunct relief base exig circumst immin danger commiss crime hack airbnb_agre agre_follow follow_claim claim_except except_arbitr arbitr_agreement agreement_brought brought_judici judici_proceed proceed_court court_compet compet_jurisdict jurisdict_claim claim_relat relat_actual actual_threaten threaten_infring infring_misappropri misappropri_violat violat_parti parti_copyright copyright_trademark trademark_trade trade_secret secret_patent patent_intellectu intellectu_properti properti_right right_ii ii_claim claim_seek seek_emerg emerg_injunct injunct_relief relief_base base_exig exig_circumst circumst_immin immin_danger danger_commiss commiss_crime crime_hack']\n"
          ]
        }
      ],
      "source": [
        "print(texts_train_joined[0:20])"
      ]
    },
    {
      "cell_type": "code",
      "execution_count": 8,
      "metadata": {},
      "outputs": [
        {
          "data": {
            "text/plain": [
              "<16333x343318 sparse matrix of type '<class 'numpy.int64'>'\n",
              "\twith 851585 stored elements in Compressed Sparse Row format>"
            ]
          },
          "execution_count": 8,
          "metadata": {},
          "output_type": "execute_result"
        }
      ],
      "source": [
        "X_train"
      ]
    },
    {
      "cell_type": "code",
      "execution_count": 10,
      "metadata": {
        "colab": {
          "base_uri": "https://localhost:8080/"
        },
        "id": "h9oi60MMylQD",
        "outputId": "8f388e21-53d0-4e92-c5d6-d9e1f359754f"
      },
      "outputs": [
        {
          "name": "stdout",
          "output_type": "stream",
          "text": [
            "Accuracy: 0.9419686581782566\n"
          ]
        }
      ],
      "source": [
        "from sklearn.linear_model import LogisticRegression\n",
        "from sklearn.metrics import accuracy_score\n",
        "\n",
        "# init/train classifier\n",
        "classifier = LogisticRegression()\n",
        "classifier.fit(X_train, labels_train)\n",
        "\n",
        "# predicting on test set\n",
        "labels_pred = classifier.predict(X_test)\n",
        "\n",
        "# getting accuracy\n",
        "accuracy = accuracy_score(labels_test, labels_pred)\n",
        "print(f'Accuracy: {accuracy}')"
      ]
    },
    {
      "cell_type": "markdown",
      "metadata": {},
      "source": [
        "Hyperparameter Tuning"
      ]
    },
    {
      "cell_type": "code",
      "execution_count": null,
      "metadata": {},
      "outputs": [],
      "source": [
        "from sklearn.model_selection import GridSearchCV\n",
        "classifier_2 = LogisticRegression(penalty=\"elasticnet\",solver=\"saga\",max_iter=1000)\n",
        "param_grid = {\n",
        "    'C': [0.01, 0.1, 1, 10, 100],  # Inverse of regularization strength\n",
        "    'l1_ratio': [0, 0.25, 0.5, 0.75, 1]  # Balance between L1 and L2 regularization\n",
        "}\n",
        "grid_search = GridSearchCV(classifier_2, param_grid, cv=5,scoring='f1_macro',verbose=3)\n",
        "grid_search.fit(X_train, labels_train)\n",
        "print(f\"Best Parameters Found: {grid_search.best_params_}\") \n",
        "print(f\"Best Score Found: {grid_search.best_score_}\")"
      ]
    },
    {
      "cell_type": "markdown",
      "metadata": {
        "id": "LoHNsarEy1CN"
      },
      "source": [
        "**Classification Report**"
      ]
    },
    {
      "cell_type": "code",
      "execution_count": 14,
      "metadata": {
        "colab": {
          "base_uri": "https://localhost:8080/"
        },
        "id": "q_CCNBS2y1uO",
        "outputId": "e30f7b02-b9e1-4348-811a-d16824d653af"
      },
      "outputs": [
        {
          "name": "stdout",
          "output_type": "stream",
          "text": [
            "              precision    recall  f1-score   support\n",
            "\n",
            "           0       0.95      0.99      0.97      3632\n",
            "           1       0.84      0.59      0.69       452\n",
            "\n",
            "    accuracy                           0.94      4084\n",
            "   macro avg       0.89      0.79      0.83      4084\n",
            "weighted avg       0.94      0.94      0.94      4084\n",
            "\n"
          ]
        },
        {
          "data": {
            "text/plain": [
              "Text(0.5, 1.0, 'Bag of Words Confusion Matrix')"
            ]
          },
          "execution_count": 14,
          "metadata": {},
          "output_type": "execute_result"
        },
        {
          "data": {
            "image/png": "[encoded data removed]",
            "text/plain": [
              "<Figure size 640x480 with 2 Axes>"
            ]
          },
          "metadata": {},
          "output_type": "display_data"
        }
      ],
      "source": [
        "from sklearn.metrics import classification_report,confusion_matrix,ConfusionMatrixDisplay\n",
        "\n",
        "# performance analysis\n",
        "print(classification_report(labels_test, labels_pred))\n",
        "cm = confusion_matrix(labels_test, labels_pred)\n",
        "disp = ConfusionMatrixDisplay(confusion_matrix=cm, display_labels=[\"fair\", \"potentially unfair\"])\n",
        "disp.plot()\n",
        "plt.title(\"Bag of Words Confusion Matrix\")"
      ]
    },
    {
      "cell_type": "markdown",
      "metadata": {},
      "source": [
        "Save and Export the model to run it in our demo"
      ]
    },
    {
      "cell_type": "code",
      "execution_count": 16,
      "metadata": {
        "id": "zU7fEnp83Mvx"
      },
      "outputs": [
        {
          "data": {
            "text/plain": [
              "['../models/logistic_regression_bow.pkl']"
            ]
          },
          "execution_count": 16,
          "metadata": {},
          "output_type": "execute_result"
        }
      ],
      "source": [
        "import joblib\n",
        "joblib.dump(classifier, '../models/logistic_regression_bow.pkl')"
      ]
    },
    {
      "cell_type": "code",
      "execution_count": 24,
      "metadata": {},
      "outputs": [
        {
          "data": {
            "text/plain": [
              "['../models/bow_count_vectorizer.pkl']"
            ]
          },
          "execution_count": 24,
          "metadata": {},
          "output_type": "execute_result"
        }
      ],
      "source": [
        "joblib.dump(vectorizer, '../models/bow_count_vectorizer.pkl')"
      ]
    },
    {
      "cell_type": "code",
      "execution_count": 23,
      "metadata": {},
      "outputs": [
        {
          "data": {
            "text/plain": [
              "array(['0', '0', '0', ..., '0', '1', '0'], dtype=object)"
            ]
          },
          "execution_count": 23,
          "metadata": {},
          "output_type": "execute_result"
        }
      ],
      "source": [
        "bow_classifier = joblib.load('../models/logistic_regression_bow.pkl')\n",
        "bow_classifier.predict(X_train)"
      ]
    },
    {
      "cell_type": "code",
      "execution_count": 35,
      "metadata": {},
      "outputs": [
        {
          "data": {
            "text/plain": [
              "Text(0.5, 1.0, 'Bag of Words Confusion Matrix (hyperparameter tuned)')"
            ]
          },
          "execution_count": 35,
          "metadata": {},
          "output_type": "execute_result"
        },
        {
          "data": {
            "image/png": "[encoded data removed]",
            "text/plain": [
              "<Figure size 640x480 with 2 Axes>"
            ]
          },
          "metadata": {},
          "output_type": "display_data"
        }
      ],
      "source": [
        "classifier_2 = LogisticRegression(penalty=\"elasticnet\",solver=\"saga\",max_iter=2000,C=1,l1_ratio=0.5)\n",
        "classifier_2.fit(X_train, labels_train)\n",
        "labels_pred = classifier_2.predict(X_test)\n",
        "\n",
        "cm_2 = confusion_matrix(labels_test, labels_pred)\n",
        "disp_2 = ConfusionMatrixDisplay(confusion_matrix=cm_2, display_labels=[\"fair\", \"potentially unfair\"])\n",
        "disp_2.plot()\n",
        "plt.title(\"Bag of Words Confusion Matrix (hyperparameter tuned)\")"
      ]
    },
    {
      "cell_type": "markdown",
      "metadata": {},
      "source": [
        "Looks like hyper parameter tuning isn't making much of a difference"
      ]
    },
    {
      "cell_type": "markdown",
      "metadata": {},
      "source": [
        "Let's see if we can combine the BERT model approach with the bag of words approach. Hopefully this will give us an understanding of the semantic meaning of the text from BERT, along with the better understanding of the actual words themselves from Bag of Words."
      ]
    },
    {
      "cell_type": "code",
      "execution_count": null,
      "metadata": {},
      "outputs": [],
      "source": [
        "import torch\n",
        "import torch.nn as nn\n",
        "from transformers import BertModel, BertTokenizer\n",
        "\n",
        "class HybridModel(nn.Module):\n",
        "    def __init__(self, num_bow_features, num_labels):\n",
        "        super(HybridModel, self).__init__()\n",
        "        self.bert = BertModel.from_pretrained('distilbert/distilbert-base-uncased')\n",
        "        self.linear_bow = nn.Linear(num_bow_features, 128)  # Assuming 128 hidden units\n",
        "        self.classifier = nn.Linear(128 + 768, num_labels)  # 768 is the size of BERT base hidden state\n",
        "        self.dropout = nn.Dropout(0.1)\n",
        "        self.softmax = nn.Softmax(dim=1)\n",
        "\n",
        "    def forward(self, input_ids, attention_mask, bow_features):\n",
        "        # BERT encoding\n",
        "        with torch.no_grad():\n",
        "            outputs = self.bert(input_ids, attention_mask=attention_mask)\n",
        "        bert_output = outputs.pooler_output  # Using the pooled output\n",
        "        # BoW pathway\n",
        "        bow_output = self.linear_bow(bow_features)\n",
        "        # Combine the outputs\n",
        "        combined_output = torch.cat((bert_output, bow_output), dim=1)\n",
        "        combined_output = self.dropout(combined_output)\n",
        "        # Classifier\n",
        "        logits = self.classifier(combined_output)\n",
        "        return self.softmax(logits)\n",
        "\n",
        "# Example usage\n",
        "tokenizer = BertTokenizer.from_pretrained('distilbert/distilbert-base-uncased')\n",
        "text = \"Example text for our model\"\n",
        "encoded_input = tokenizer(text, return_tensors='pt')\n",
        "bow_text = vectorizer(preprocess(text))\n",
        "bow_features = torch.rand(1, 500)  # Example BoW vector of size 500\n",
        "\n",
        "model = HybridModel(num_bow_features=343318, num_labels=2)\n",
        "output = model(encoded_input['input_ids'], encoded_input['attention_mask'], bow_features)\n",
        "print(output)\n"
      ]
    },
    {
      "cell_type": "code",
      "execution_count": 12,
      "metadata": {},
      "outputs": [],
      "source": [
        "bow_text = vectorizer.transform(preprocess(\"this is a test\"))"
      ]
    },
    {
      "cell_type": "code",
      "execution_count": 19,
      "metadata": {},
      "outputs": [
        {
          "ename": "NameError",
          "evalue": "name 'bow_classifier' is not defined",
          "output_type": "error",
          "traceback": [
            "\u001b[0;31m---------------------------------------------------------------------------\u001b[0m",
            "\u001b[0;31mNameError\u001b[0m                                 Traceback (most recent call last)",
            "Cell \u001b[0;32mIn[19], line 1\u001b[0m\n\u001b[0;32m----> 1\u001b[0m logits \u001b[38;5;241m=\u001b[39m \u001b[43mbow_classifier\u001b[49m\u001b[38;5;241m.\u001b[39mdecision_function(bow_text)\n\u001b[1;32m      2\u001b[0m logits\n",
            "\u001b[0;31mNameError\u001b[0m: name 'bow_classifier' is not defined"
          ]
        }
      ],
      "source": [
        "logits = classifier.decision_function(bow_text)\n",
        "logits"
      ]
    },
    {
      "cell_type": "markdown",
      "metadata": {},
      "source": [
        "If we want to make an ensemble method, we will have to use tensorflow because it has more support for sparse matrices, which we need for the bag of words method, compared to pytorch"
      ]
    },
    {
      "cell_type": "code",
      "execution_count": null,
      "metadata": {},
      "outputs": [],
      "source": []
    }
  ],
  "metadata": {
    "colab": {
      "provenance": []
    },
    "kernelspec": {
      "display_name": "Python 3",
      "language": "python",
      "name": "python3"
    },
    "language_info": {
      "codemirror_mode": {
        "name": "ipython",
        "version": 3
      },
      "file_extension": ".py",
      "mimetype": "text/x-python",
      "name": "python",
      "nbconvert_exporter": "python",
      "pygments_lexer": "ipython3",
      "version": "3.10.12"
    }
  },
  "nbformat": 4,
  "nbformat_minor": 0
}
